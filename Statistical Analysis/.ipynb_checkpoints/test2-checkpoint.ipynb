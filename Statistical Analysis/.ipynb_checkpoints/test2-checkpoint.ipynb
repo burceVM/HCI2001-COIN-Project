{
 "cells": [
  {
   "cell_type": "code",
   "execution_count": 1,
   "id": "c604464e",
   "metadata": {},
   "outputs": [],
   "source": [
    "import pandas as pd\n",
    "from scipy.stats import f_oneway"
   ]
  },
  {
   "cell_type": "code",
   "execution_count": 2,
   "id": "ae479ab5",
   "metadata": {},
   "outputs": [
    {
     "name": "stdout",
     "output_type": "stream",
     "text": [
      "<class 'pandas.core.frame.DataFrame'>\n",
      "RangeIndex: 22 entries, 0 to 21\n",
      "Data columns (total 5 columns):\n",
      " #   Column   Non-Null Count  Dtype  \n",
      "---  ------   --------------  -----  \n",
      " 0   DLTask2  22 non-null     float64\n",
      " 1   DCTask2  22 non-null     float64\n",
      " 2   RLTask2  22 non-null     float64\n",
      " 3   RCTask2  22 non-null     float64\n",
      " 4   CTask2   22 non-null     float64\n",
      "dtypes: float64(5)\n",
      "memory usage: 1012.0 bytes\n"
     ]
    }
   ],
   "source": [
    "sample_df_orig = pd.read_csv(\"sample2.csv\")\n",
    "\n",
    "def extract_numerical(value):\n",
    "    return float(value.split()[0])\n",
    "    \n",
    "sample_df = sample_df_orig.apply(lambda x: x.map(extract_numerical))\n",
    "\n",
    "sample_df.info()"
   ]
  },
  {
   "cell_type": "code",
   "execution_count": 3,
   "id": "bfe8e664",
   "metadata": {},
   "outputs": [
    {
     "name": "stdout",
     "output_type": "stream",
     "text": [
      "    DLTask2  DCTask2  RLTask2  RCTask2  CTask2\n",
      "0    2775.0   2775.0   2775.0   2775.0  2775.0\n",
      "1   24502.0  14594.0   2995.0   2787.0  4591.0\n",
      "2   21321.0   6558.0   2884.0   1823.0  3941.0\n",
      "3   22333.0   6772.0   1372.0   2634.0  1800.0\n",
      "4   16150.0  11142.0   3909.0   2510.0  4167.0\n",
      "5   57508.0   9015.0   3360.0   6401.0  2432.0\n",
      "6    2344.0   3202.0  16097.0   4111.0  1578.0\n",
      "7   43376.0   7312.0   5862.0   7490.0  3389.0\n",
      "8   22476.0  14288.0   1981.0  54599.0   760.0\n",
      "9    9655.0   6195.0   5461.0   2843.0  4971.0\n",
      "10  43211.0  12598.0  13122.0   2600.0  2250.0\n",
      "11  23136.0  25972.0   8358.0   3739.0  2699.0\n",
      "12  16311.0   5424.0   1631.0   1936.0  2286.0\n",
      "13  17783.0   6743.0   1878.0   7039.0  3246.0\n",
      "14   8184.0   7591.0   6797.0   3984.0  4670.0\n",
      "15  20103.0  14284.0   6125.0   2758.0  8370.0\n",
      "16  41957.0   8911.0   2123.0   2152.0  6736.0\n",
      "17  20655.0   9452.0   2904.0   6093.0  6750.0\n",
      "18  34715.0   6686.0   2164.0   2110.0  2914.0\n",
      "19  25801.0  42497.0   8453.0   5619.0  5353.0\n",
      "20  10581.0   5756.0   2001.0   3779.0  5343.0\n",
      "21   9787.0   9787.0   1297.0   2542.0  2047.0\n"
     ]
    }
   ],
   "source": [
    "print(sample_df)"
   ]
  },
  {
   "cell_type": "code",
   "execution_count": 4,
   "id": "1857a093",
   "metadata": {},
   "outputs": [
    {
     "name": "stdout",
     "output_type": "stream",
     "text": [
      "Mean of each column:\n",
      "DLTask2    22484.727273\n",
      "DCTask2    10797.909091\n",
      "RLTask2     4706.772727\n",
      "RCTask2     6014.727273\n",
      "CTask2      3775.818182\n",
      "dtype: float64\n"
     ]
    }
   ],
   "source": [
    "#Get the mean first\n",
    "\n",
    "\n",
    "means = sample_df.mean()\n",
    "\n",
    "print(\"Mean of each column:\")\n",
    "print(means)"
   ]
  },
  {
   "cell_type": "code",
   "execution_count": 5,
   "id": "1c3fe81b",
   "metadata": {},
   "outputs": [
    {
     "name": "stdout",
     "output_type": "stream",
     "text": [
      "F-Statistic: 15.771584842258514\n",
      "P-value: 3.873003532962785e-10\n"
     ]
    }
   ],
   "source": [
    "#Get significant difference using One-way ANOVA\n",
    "df = sample_df\n",
    "f_statistic, p_value = f_oneway(df['DLTask2'], df['DCTask2'], df['RLTask2'], df['RCTask2'], df['CTask2'])\n",
    "\n",
    "# Print results\n",
    "print(\"F-Statistic:\", f_statistic)\n",
    "print(\"P-value:\", p_value)"
   ]
  },
  {
   "cell_type": "code",
   "execution_count": 6,
   "id": "1e8ff165",
   "metadata": {},
   "outputs": [
    {
     "name": "stdout",
     "output_type": "stream",
     "text": [
      "There is a significant difference among the layouts of the Default Canvas Dashboard in terms of task completion times in to-do list.\n"
     ]
    }
   ],
   "source": [
    "if p_value < 0.05:\n",
    "    print(\"There is a significant difference among the layouts of the Default Canvas Dashboard in terms of task completion times in to-do list.\")\n",
    "else:\n",
    "    print(\"There is no significant difference among the layouts of the Default Canvas Dashboard in terms of task completion times in to-do list.\")"
   ]
  },
  {
   "cell_type": "code",
   "execution_count": null,
   "id": "e6a20eee",
   "metadata": {},
   "outputs": [],
   "source": []
  }
 ],
 "metadata": {
  "kernelspec": {
   "display_name": "Python 3 (ipykernel)",
   "language": "python",
   "name": "python3"
  },
  "language_info": {
   "codemirror_mode": {
    "name": "ipython",
    "version": 3
   },
   "file_extension": ".py",
   "mimetype": "text/x-python",
   "name": "python",
   "nbconvert_exporter": "python",
   "pygments_lexer": "ipython3",
   "version": "3.11.4"
  }
 },
 "nbformat": 4,
 "nbformat_minor": 5
}
