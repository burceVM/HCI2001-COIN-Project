{
 "cells": [
  {
   "cell_type": "code",
   "execution_count": 7,
   "id": "531ec890-1772-4ce5-a706-22fb6e11125c",
   "metadata": {},
   "outputs": [],
   "source": [
    "import pandas as pd\n",
    "from scipy.stats import f_oneway"
   ]
  },
  {
   "cell_type": "code",
   "execution_count": 8,
   "id": "1ac0d576-a8b8-43a1-8caf-0829a4e489bb",
   "metadata": {},
   "outputs": [
    {
     "name": "stdout",
     "output_type": "stream",
     "text": [
      "<class 'pandas.core.frame.DataFrame'>\n",
      "RangeIndex: 42 entries, 0 to 41\n",
      "Data columns (total 5 columns):\n",
      " #   Column   Non-Null Count  Dtype  \n",
      "---  ------   --------------  -----  \n",
      " 0   DLTask2  42 non-null     float64\n",
      " 1   DCTask2  42 non-null     float64\n",
      " 2   RLTask2  42 non-null     float64\n",
      " 3   RCTask2  42 non-null     float64\n",
      " 4   CTask2   42 non-null     float64\n",
      "dtypes: float64(5)\n",
      "memory usage: 1.8 KB\n"
     ]
    }
   ],
   "source": [
    "sample_df_orig = pd.read_csv(\"sample5.csv\")\n",
    "\n",
    "def extract_numerical(value):\n",
    "    return float(value.split()[0])\n",
    "    \n",
    "sample_df = sample_df_orig\n",
    "\n",
    "sample_df.info()"
   ]
  },
  {
   "cell_type": "code",
   "execution_count": 9,
   "id": "132bcbac-a86a-4136-837b-8b5efee7a09d",
   "metadata": {},
   "outputs": [
    {
     "name": "stdout",
     "output_type": "stream",
     "text": [
      "     DLTask2   DCTask2   RLTask2   RCTask2    CTask2\n",
      "0   0.250000  0.250000  1.000000  0.500000  1.000000\n",
      "1   0.142857  0.500000  1.000000  1.000000  1.000000\n",
      "2   0.055556  0.071429  1.000000  0.250000  1.000000\n",
      "3   0.333333  1.000000  1.000000  0.500000  1.000000\n",
      "4   0.125000  0.500000  0.500000  1.000000  1.000000\n",
      "5   1.000000  1.000000  1.000000  1.000000  1.000000\n",
      "6   0.250000  1.000000  1.000000  0.100000  1.000000\n",
      "7   1.000000  1.000000  1.000000  0.333333  1.000000\n",
      "8   0.500000  1.000000  1.000000  1.000000  1.000000\n",
      "9   1.000000  1.000000  1.000000  1.000000  1.000000\n",
      "10  0.500000  0.166667  1.000000  0.500000  1.000000\n",
      "11  1.000000  0.500000  1.000000  1.000000  1.000000\n",
      "12  0.076923  0.500000  1.000000  1.000000  1.000000\n",
      "13  0.035714  1.000000  1.000000  1.000000  1.000000\n",
      "14  0.111111  0.166667  1.000000  0.142857  1.000000\n",
      "15  1.000000  0.250000  1.000000  1.000000  0.500000\n",
      "16  0.111111  0.250000  0.250000  0.100000  1.000000\n",
      "17  0.333333  0.500000  1.000000  0.200000  1.000000\n",
      "18  0.037037  0.200000  0.200000  0.100000  1.000000\n",
      "19  0.142857  0.333333  1.000000  1.000000  1.000000\n",
      "20  0.045455  0.333333  1.000000  0.250000  1.000000\n",
      "21  1.000000  0.500000  1.000000  1.000000  0.333333\n",
      "22  1.000000  1.000000  1.000000  0.500000  1.000000\n",
      "23  1.000000  1.000000  1.000000  1.000000  1.000000\n",
      "24  0.058824  0.500000  1.000000  1.000000  1.000000\n",
      "25  1.000000  1.000000  1.000000  1.000000  1.000000\n",
      "26  0.333333  0.166667  1.000000  0.111111  1.000000\n",
      "27  1.000000  0.250000  0.500000  0.500000  0.333333\n",
      "28  0.333333  0.500000  1.000000  1.000000  0.333333\n",
      "29  0.333333  1.000000  1.000000  1.000000  0.500000\n",
      "30  0.500000  0.500000  1.000000  0.500000  1.000000\n",
      "31  0.333333  1.000000  1.000000  1.000000  1.000000\n",
      "32  1.000000  1.000000  1.000000  1.000000  1.000000\n",
      "33  1.000000  1.000000  1.000000  1.000000  1.000000\n",
      "34  1.000000  1.000000  1.000000  0.333333  1.000000\n",
      "35  1.000000  1.000000  1.000000  1.000000  1.000000\n",
      "36  0.333333  1.000000  1.000000  1.000000  1.000000\n",
      "37  0.142857  0.250000  1.000000  0.500000  1.000000\n",
      "38  0.200000  1.000000  0.333333  1.000000  1.000000\n",
      "39  0.333333  1.000000  1.000000  1.000000  1.000000\n",
      "40  0.200000  0.500000  1.000000  0.250000  1.000000\n",
      "41  1.000000  0.500000  1.000000  1.000000  1.000000\n"
     ]
    }
   ],
   "source": [
    "print(sample_df)"
   ]
  },
  {
   "cell_type": "code",
   "execution_count": 10,
   "id": "e763b7e5-40dc-40aa-9051-80cea936993b",
   "metadata": {},
   "outputs": [
    {
     "name": "stdout",
     "output_type": "stream",
     "text": [
      "Mean of each column:\n",
      "DLTask2    0.503618\n",
      "DCTask2    0.647336\n",
      "RLTask2    0.923413\n",
      "RCTask2    0.706444\n",
      "CTask2     0.928571\n",
      "dtype: float64\n"
     ]
    }
   ],
   "source": [
    "#Get the mean first\n",
    "\n",
    "\n",
    "means = sample_df.mean()\n",
    "\n",
    "print(\"Mean of each column:\")\n",
    "print(means)"
   ]
  },
  {
   "cell_type": "code",
   "execution_count": 11,
   "id": "9e3aaeee-5041-47f2-b682-992e03a148d5",
   "metadata": {},
   "outputs": [
    {
     "name": "stdout",
     "output_type": "stream",
     "text": [
      "F-Statistic: 14.544778236868032\n",
      "P-value: 1.7905875882147234e-10\n"
     ]
    }
   ],
   "source": [
    "#Get significant difference using One-way ANOVA\n",
    "df = sample_df\n",
    "f_statistic, p_value = f_oneway(df['DLTask2'], df['DCTask2'], df['RLTask2'], df['RCTask2'], df['CTask2'])\n",
    "\n",
    "# Print results\n",
    "print(\"F-Statistic:\", f_statistic)\n",
    "print(\"P-value:\", p_value)"
   ]
  },
  {
   "cell_type": "code",
   "execution_count": 12,
   "id": "d0e5cf1e-8921-4ffc-8063-e6b20d15efcd",
   "metadata": {},
   "outputs": [
    {
     "name": "stdout",
     "output_type": "stream",
     "text": [
      "There is a significant difference among the layouts of the Default Canvas Dashboard in terms of clicking the most urgent task in to-do list.\n"
     ]
    }
   ],
   "source": [
    "if p_value < 0.05:\n",
    "    print(\"There is a significant difference among the layouts of the Default Canvas Dashboard in terms of clicking the most urgent task in to-do list.\")\n",
    "else:\n",
    "    print(\"There is no significant difference among the layouts of the Default Canvas Dashboard in terms of clicking the most urgent task in to-do list.\")"
   ]
  }
 ],
 "metadata": {
  "kernelspec": {
   "display_name": "Python 3 (ipykernel)",
   "language": "python",
   "name": "python3"
  },
  "language_info": {
   "codemirror_mode": {
    "name": "ipython",
    "version": 3
   },
   "file_extension": ".py",
   "mimetype": "text/x-python",
   "name": "python",
   "nbconvert_exporter": "python",
   "pygments_lexer": "ipython3",
   "version": "3.11.8"
  }
 },
 "nbformat": 4,
 "nbformat_minor": 5
}
