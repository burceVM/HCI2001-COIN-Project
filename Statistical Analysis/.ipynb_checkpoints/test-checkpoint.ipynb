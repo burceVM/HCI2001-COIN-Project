{
 "cells": [
  {
   "cell_type": "code",
   "execution_count": 12,
   "id": "14a368c4-32e8-4192-9a21-4696b07fd254",
   "metadata": {},
   "outputs": [],
   "source": [
    "import pandas as pd\n",
    "from scipy.stats import f_oneway"
   ]
  },
  {
   "cell_type": "code",
   "execution_count": 13,
   "id": "15278ff2-ec5c-4bff-9831-cc054a482dc7",
   "metadata": {},
   "outputs": [
    {
     "name": "stdout",
     "output_type": "stream",
     "text": [
      "<class 'pandas.core.frame.DataFrame'>\n",
      "RangeIndex: 13 entries, 0 to 12\n",
      "Data columns (total 5 columns):\n",
      " #   Column   Non-Null Count  Dtype  \n",
      "---  ------   --------------  -----  \n",
      " 0   DLTask1  13 non-null     float64\n",
      " 1   DCTask1  13 non-null     float64\n",
      " 2   RLTask1  13 non-null     float64\n",
      " 3   RCTask1  13 non-null     float64\n",
      " 4   CTask1   13 non-null     float64\n",
      "dtypes: float64(5)\n",
      "memory usage: 652.0 bytes\n"
     ]
    }
   ],
   "source": [
    "sample_df_orig = pd.read_csv(\"sample.csv\")\n",
    "\n",
    "def extract_numerical(value):\n",
    "    return float(value.split()[0])\n",
    "    \n",
    "sample_df = sample_df_orig.apply(lambda x: x.map(extract_numerical))\n",
    "\n",
    "sample_df.info()"
   ]
  },
  {
   "cell_type": "code",
   "execution_count": 14,
   "id": "e49cf1db-793c-42c3-b712-aed52611c58e",
   "metadata": {},
   "outputs": [
    {
     "name": "stdout",
     "output_type": "stream",
     "text": [
      "     DLTask1   DCTask1  RLTask1  RCTask1   CTask1\n",
      "0     4585.0    9220.0   1481.0   6057.0   6829.0\n",
      "1     1247.0    9587.0   4507.0   7369.0  18039.0\n",
      "2   112068.0    4566.0   4184.0   5554.0   3156.0\n",
      "3     6991.0   18855.0   4483.0   5954.0   5923.0\n",
      "4     8818.0   24423.0   4818.0  12067.0  11761.0\n",
      "5    14566.0    6751.0   1830.0  12981.0  15037.0\n",
      "6    22405.0  195647.0   5024.0   4783.0  13268.0\n",
      "7    13782.0    8398.0   3128.0   5227.0   2326.0\n",
      "8     2241.0    5256.0   9960.0   6453.0   3642.0\n",
      "9   159866.0   34348.0  12233.0  10260.0   8386.0\n",
      "10   64355.0   32844.0   4830.0  11648.0   5572.0\n",
      "11   12813.0    3599.0   2853.0   7591.0   3839.0\n",
      "12    3279.0    7591.0   4308.0   3648.0   6375.0\n"
     ]
    }
   ],
   "source": [
    "print(sample_df)"
   ]
  },
  {
   "cell_type": "code",
   "execution_count": 15,
   "id": "5e90938b-98d5-4a39-9f98-b3f272a55646",
   "metadata": {},
   "outputs": [
    {
     "name": "stdout",
     "output_type": "stream",
     "text": [
      "Mean of each column:\n",
      "DLTask1    32847.384615\n",
      "DCTask1    27775.769231\n",
      "RLTask1     4895.307692\n",
      "RCTask1     7660.923077\n",
      "CTask1      8011.769231\n",
      "dtype: float64\n"
     ]
    }
   ],
   "source": [
    "#Get the mean first\n",
    "\n",
    "\n",
    "means = sample_df.mean()\n",
    "\n",
    "print(\"Mean of each column:\")\n",
    "print(means)"
   ]
  },
  {
   "cell_type": "code",
   "execution_count": 16,
   "id": "511b6004-30a9-4f6e-95e2-ee4e838556ff",
   "metadata": {},
   "outputs": [
    {
     "name": "stdout",
     "output_type": "stream",
     "text": [
      "F-Statistic: 2.1401936717143175\n",
      "P-value: 0.08681335190044623\n"
     ]
    }
   ],
   "source": [
    "#Get significant difference using One-way ANOVA\n",
    "df = sample_df\n",
    "f_statistic, p_value = f_oneway(df['DLTask1'], df['DCTask1'], df['RLTask1'], df['RCTask1'], df['CTask1'])\n",
    "\n",
    "# Print results\n",
    "print(\"F-Statistic:\", f_statistic)\n",
    "print(\"P-value:\", p_value)"
   ]
  },
  {
   "cell_type": "code",
   "execution_count": 18,
   "id": "6fc1e191-5f74-405b-9270-845c8f766440",
   "metadata": {},
   "outputs": [
    {
     "name": "stdout",
     "output_type": "stream",
     "text": [
      "There is no significant difference among the layouts of the Default Canvas Dashboard in terms of task completion times in to-do list.\n"
     ]
    }
   ],
   "source": [
    "if p_value < 0.05:\n",
    "    print(\"There is a significant difference among the layouts of the Default Canvas Dashboard in terms of task completion times in to-do list.\")\n",
    "else:\n",
    "    print(\"There is no significant difference among the layouts of the Default Canvas Dashboard in terms of task completion times in to-do list.\")"
   ]
  },
  {
   "cell_type": "code",
   "execution_count": null,
   "id": "2f9812b8-57f1-4708-86d8-3d3c4e5f50ba",
   "metadata": {},
   "outputs": [],
   "source": []
  }
 ],
 "metadata": {
  "kernelspec": {
   "display_name": "Python 3 (ipykernel)",
   "language": "python",
   "name": "python3"
  },
  "language_info": {
   "codemirror_mode": {
    "name": "ipython",
    "version": 3
   },
   "file_extension": ".py",
   "mimetype": "text/x-python",
   "name": "python",
   "nbconvert_exporter": "python",
   "pygments_lexer": "ipython3",
   "version": "3.11.8"
  }
 },
 "nbformat": 4,
 "nbformat_minor": 5
}
