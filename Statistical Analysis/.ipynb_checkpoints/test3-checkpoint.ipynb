{
 "cells": [
  {
   "cell_type": "code",
   "execution_count": 1,
   "id": "191d957e",
   "metadata": {},
   "outputs": [],
   "source": [
    "import pandas as pd\n",
    "from scipy.stats import f_oneway"
   ]
  },
  {
   "cell_type": "code",
   "execution_count": 2,
   "id": "d85b3318",
   "metadata": {},
   "outputs": [
    {
     "name": "stdout",
     "output_type": "stream",
     "text": [
      "<class 'pandas.core.frame.DataFrame'>\n",
      "RangeIndex: 22 entries, 0 to 21\n",
      "Data columns (total 5 columns):\n",
      " #   Column   Non-Null Count  Dtype  \n",
      "---  ------   --------------  -----  \n",
      " 0   DLTask3  22 non-null     float64\n",
      " 1   DCTask3  22 non-null     float64\n",
      " 2   RLTask3  22 non-null     float64\n",
      " 3   RCTask3  22 non-null     float64\n",
      " 4   CTask3   22 non-null     float64\n",
      "dtypes: float64(5)\n",
      "memory usage: 1012.0 bytes\n"
     ]
    }
   ],
   "source": [
    "sample_df_orig = pd.read_csv(\"sample3.csv\")\n",
    "\n",
    "def extract_numerical(value):\n",
    "    return float(value.split()[0])\n",
    "    \n",
    "sample_df = sample_df_orig.apply(lambda x: x.map(extract_numerical))\n",
    "\n",
    "sample_df.info()"
   ]
  },
  {
   "cell_type": "code",
   "execution_count": 3,
   "id": "be2bef10",
   "metadata": {},
   "outputs": [
    {
     "name": "stdout",
     "output_type": "stream",
     "text": [
      "    DLTask3  DCTask3  RLTask3  RCTask3   CTask3\n",
      "0    4759.0   4759.0   4759.0   4759.0   4759.0\n",
      "1   16897.0   6042.0   2472.0   8576.0   7511.0\n",
      "2   58861.0  20932.0   2237.0  12174.0   8445.0\n",
      "3   56264.0   5610.0  15891.0   2766.0    763.0\n",
      "4   13081.0  14064.0   4724.0  21063.0   3030.0\n",
      "5   15987.0   7674.0   6112.0  16130.0   7379.0\n",
      "6   11029.0   9789.0   3916.0   4979.0   3233.0\n",
      "7   25834.0   5111.0   4129.0   9485.0  10297.0\n",
      "8   11393.0  11310.0   1628.0   7878.0   1462.0\n",
      "9   15899.0  11043.0   8319.0  15561.0   4640.0\n",
      "10  42390.0   9286.0  21264.0  27040.0   2434.0\n",
      "11  59390.0  17170.0   2427.0   6136.0   5273.0\n",
      "12   9871.0   9159.0   2741.0  11472.0   1927.0\n",
      "13  15961.0   3928.0   2079.0   9496.0   4135.0\n",
      "14  12924.0  20639.0   7328.0  34083.0   6829.0\n",
      "15  13257.0   7595.0   3993.0  10354.0   8500.0\n",
      "16  15697.0  16963.0   5826.0   9860.0   1255.0\n",
      "17  23274.0   8105.0   2644.0  10250.0   4515.0\n",
      "18   8884.0   3807.0   2194.0   7448.0   6518.0\n",
      "19  86041.0  12734.0   8091.0  17348.0   7104.0\n",
      "20  11572.0   4065.0   7213.0  10479.0   3933.0\n",
      "21  11421.0   7394.0   1312.0   5919.0    778.0\n"
     ]
    }
   ],
   "source": [
    "print(sample_df)"
   ]
  },
  {
   "cell_type": "code",
   "execution_count": 4,
   "id": "9d5243c9",
   "metadata": {},
   "outputs": [
    {
     "name": "stdout",
     "output_type": "stream",
     "text": [
      "Mean of each column:\n",
      "DLTask3    24576.636364\n",
      "DCTask3     9871.772727\n",
      "RLTask3     5513.590909\n",
      "RCTask3    11966.181818\n",
      "CTask3      4760.000000\n",
      "dtype: float64\n"
     ]
    }
   ],
   "source": [
    "#Get the mean first\n",
    "\n",
    "\n",
    "means = sample_df.mean()\n",
    "\n",
    "print(\"Mean of each column:\")\n",
    "print(means)"
   ]
  },
  {
   "cell_type": "code",
   "execution_count": 5,
   "id": "9ebeff8d",
   "metadata": {},
   "outputs": [
    {
     "name": "stdout",
     "output_type": "stream",
     "text": [
      "F-Statistic: 12.056056334136537\n",
      "P-value: 4.230231313711426e-08\n"
     ]
    }
   ],
   "source": [
    "#Get significant difference using One-way ANOVA\n",
    "df = sample_df\n",
    "f_statistic, p_value = f_oneway(df['DLTask3'], df['DCTask3'], df['RLTask3'], df['RCTask3'], df['CTask3'])\n",
    "\n",
    "# Print results\n",
    "print(\"F-Statistic:\", f_statistic)\n",
    "print(\"P-value:\", p_value)"
   ]
  },
  {
   "cell_type": "code",
   "execution_count": 6,
   "id": "21e181ad",
   "metadata": {},
   "outputs": [
    {
     "name": "stdout",
     "output_type": "stream",
     "text": [
      "There is a significant difference among the layouts of the Default Canvas Dashboard in terms of task completion times in to-do list.\n"
     ]
    }
   ],
   "source": [
    "if p_value < 0.05:\n",
    "    print(\"There is a significant difference among the layouts of the Default Canvas Dashboard in terms of task completion times in to-do list.\")\n",
    "else:\n",
    "    print(\"There is no significant difference among the layouts of the Default Canvas Dashboard in terms of task completion times in to-do list.\")"
   ]
  },
  {
   "cell_type": "code",
   "execution_count": null,
   "id": "2a9828c6",
   "metadata": {},
   "outputs": [],
   "source": []
  }
 ],
 "metadata": {
  "kernelspec": {
   "display_name": "Python 3 (ipykernel)",
   "language": "python",
   "name": "python3"
  },
  "language_info": {
   "codemirror_mode": {
    "name": "ipython",
    "version": 3
   },
   "file_extension": ".py",
   "mimetype": "text/x-python",
   "name": "python",
   "nbconvert_exporter": "python",
   "pygments_lexer": "ipython3",
   "version": "3.11.4"
  }
 },
 "nbformat": 4,
 "nbformat_minor": 5
}
