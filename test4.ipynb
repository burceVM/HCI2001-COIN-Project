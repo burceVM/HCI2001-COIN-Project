{
 "cells": [
  {
   "cell_type": "code",
   "execution_count": 1,
   "id": "a00123ee",
   "metadata": {},
   "outputs": [],
   "source": [
    "import pandas as pd\n",
    "from scipy.stats import f_oneway"
   ]
  },
  {
   "cell_type": "code",
   "execution_count": 3,
   "id": "a09626b4",
   "metadata": {},
   "outputs": [
    {
     "name": "stdout",
     "output_type": "stream",
     "text": [
      "<class 'pandas.core.frame.DataFrame'>\n",
      "RangeIndex: 22 entries, 0 to 21\n",
      "Data columns (total 5 columns):\n",
      " #   Column   Non-Null Count  Dtype  \n",
      "---  ------   --------------  -----  \n",
      " 0   DLTask4  22 non-null     float64\n",
      " 1   DCTask4  22 non-null     float64\n",
      " 2   RLTask4  22 non-null     float64\n",
      " 3   RCTask4  22 non-null     float64\n",
      " 4   CTask4   22 non-null     float64\n",
      "dtypes: float64(5)\n",
      "memory usage: 1012.0 bytes\n"
     ]
    }
   ],
   "source": [
    "sample_df_orig = pd.read_csv(\"sample4.csv\")\n",
    "\n",
    "def extract_numerical(value):\n",
    "    return float(value.split()[0])\n",
    "    \n",
    "sample_df = sample_df_orig.apply(lambda x: x.map(extract_numerical))\n",
    "\n",
    "sample_df.info()"
   ]
  },
  {
   "cell_type": "code",
   "execution_count": 4,
   "id": "d40672cc",
   "metadata": {},
   "outputs": [
    {
     "name": "stdout",
     "output_type": "stream",
     "text": [
      "    DLTask4  DCTask4  RLTask4  RCTask4   CTask4\n",
      "0    1847.0   1847.0   1847.0   1847.0   1847.0\n",
      "1   11509.0   5062.0   1931.0   3608.0   3003.0\n",
      "2   13978.0   3796.0   1795.0   4194.0   1496.0\n",
      "3    7435.0   6924.0   1059.0   3311.0   1103.0\n",
      "4    9409.0   6689.0   2860.0   7634.0   2046.0\n",
      "5    5706.0   4948.0   1497.0   4057.0   2623.0\n",
      "6   21500.0   8305.0   3401.0   7488.0   3739.0\n",
      "7   62146.0   4397.0   2082.0   2175.0   2174.0\n",
      "8   10472.0   4694.0   1483.0   3686.0   2764.0\n",
      "9    5692.0   4700.0   4153.0   5822.0   2511.0\n",
      "10   8917.0   9216.0   2390.0   4464.0   1680.0\n",
      "11  15539.0  15322.0   2384.0   3778.0  18140.0\n",
      "12   4553.0   2679.0    878.0   1813.0   1207.0\n",
      "13   5767.0   4791.0   3207.0   3487.0   1200.0\n",
      "14   7745.0  15649.0  13292.0  11163.0  23749.0\n",
      "15  10899.0  10064.0   9758.0   2196.0   5242.0\n",
      "16  13263.0   6449.0   2320.0   3471.0   1541.0\n",
      "17   9115.0   8105.0   2270.0   7984.0   1723.0\n",
      "18   5716.0   4206.0   1629.0   1141.0   1915.0\n",
      "19  50373.0  37695.0   5333.0   7672.0   5094.0\n",
      "20  14302.0   5004.0   4142.0   3486.0   3340.0\n",
      "21  10493.0   9405.0    998.0   2369.0   1455.0\n"
     ]
    }
   ],
   "source": [
    "print(sample_df)"
   ]
  },
  {
   "cell_type": "code",
   "execution_count": 5,
   "id": "ff5fee2c",
   "metadata": {},
   "outputs": [
    {
     "name": "stdout",
     "output_type": "stream",
     "text": [
      "Mean of each column:\n",
      "DLTask4    13926.181818\n",
      "DCTask4     8179.409091\n",
      "RLTask4     3214.045455\n",
      "RCTask4     4402.090909\n",
      "CTask4      4072.363636\n",
      "dtype: float64\n"
     ]
    }
   ],
   "source": [
    "#Get the mean first\n",
    "\n",
    "\n",
    "means = sample_df.mean()\n",
    "\n",
    "print(\"Mean of each column:\")\n",
    "print(means)"
   ]
  },
  {
   "cell_type": "code",
   "execution_count": null,
   "id": "42467b22",
   "metadata": {},
   "outputs": [],
   "source": [
    "#Get significant difference using One-way ANOVA\n",
    "df = sample_df\n",
    "f_statistic, p_value = f_oneway(df['DLTask4'], df['DCTask4'], df['RLTask4'], df['RCTask4'], df['CTask3'])\n",
    "\n",
    "# Print results\n",
    "print(\"F-Statistic:\", f_statistic)\n",
    "print(\"P-value:\", p_value)"
   ]
  }
 ],
 "metadata": {
  "kernelspec": {
   "display_name": "Python 3 (ipykernel)",
   "language": "python",
   "name": "python3"
  },
  "language_info": {
   "codemirror_mode": {
    "name": "ipython",
    "version": 3
   },
   "file_extension": ".py",
   "mimetype": "text/x-python",
   "name": "python",
   "nbconvert_exporter": "python",
   "pygments_lexer": "ipython3",
   "version": "3.11.4"
  }
 },
 "nbformat": 4,
 "nbformat_minor": 5
}
