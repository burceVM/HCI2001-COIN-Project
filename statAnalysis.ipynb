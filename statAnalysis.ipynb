{
 "cells": [
  {
   "cell_type": "markdown",
   "id": "9ed9de3b-0b91-49b0-b439-f436858ad7aa",
   "metadata": {},
   "source": [
    "## One-way ANOVA Testing for Time Completion on Task 1 (Urgent Task)"
   ]
  },
  {
   "cell_type": "code",
   "execution_count": 1,
   "id": "eb1ee4e2-a2e9-45c6-ba6c-350256b26cb5",
   "metadata": {},
   "outputs": [],
   "source": [
    "import pandas as pd\n",
    "from scipy.stats import f_oneway"
   ]
  },
  {
   "cell_type": "code",
   "execution_count": 3,
   "id": "de60107b-a132-4df4-b0b7-bc1d92ab7826",
   "metadata": {},
   "outputs": [
    {
     "name": "stdout",
     "output_type": "stream",
     "text": [
      "<class 'pandas.core.frame.DataFrame'>\n",
      "RangeIndex: 42 entries, 0 to 41\n",
      "Data columns (total 5 columns):\n",
      " #   Column   Non-Null Count  Dtype  \n",
      "---  ------   --------------  -----  \n",
      " 0   DLTask1  42 non-null     float64\n",
      " 1   DCTask1  42 non-null     float64\n",
      " 2   RLTask1  42 non-null     float64\n",
      " 3   RCTask1  42 non-null     float64\n",
      " 4   CTask1   42 non-null     float64\n",
      "dtypes: float64(5)\n",
      "memory usage: 1.8 KB\n"
     ]
    }
   ],
   "source": [
    "sample_df_orig = pd.read_csv(\"data1.csv\")\n",
    "\n",
    "def extract_numerical(value):\n",
    "    return float(value.split()[0])\n",
    "    \n",
    "sample_df = sample_df_orig.apply(lambda x: x.map(extract_numerical))\n",
    "\n",
    "sample_df.info()"
   ]
  },
  {
   "cell_type": "code",
   "execution_count": 4,
   "id": "3aecca58-9484-4530-bf94-9c17c499ed9e",
   "metadata": {},
   "outputs": [
    {
     "name": "stdout",
     "output_type": "stream",
     "text": [
      "     DLTask1   DCTask1  RLTask1  RCTask1   CTask1\n",
      "0     4585.0    9220.0   1481.0   6057.0   6829.0\n",
      "1     1247.0    9587.0   4507.0   7369.0  18039.0\n",
      "2   112068.0    4566.0   4184.0   5554.0   3156.0\n",
      "3     6991.0   18855.0   4483.0   5954.0   5923.0\n",
      "4     8818.0   24423.0   4818.0  12067.0  11761.0\n",
      "5    14566.0    6751.0   1830.0  12981.0  15037.0\n",
      "6    22405.0  195647.0   5024.0   4783.0  13268.0\n",
      "7    13782.0    8398.0   3128.0   5227.0   2326.0\n",
      "8     2241.0    5256.0   9960.0   6453.0   3642.0\n",
      "9   159866.0   34348.0  12233.0  10260.0   8386.0\n",
      "10   64355.0   32844.0   4830.0  11648.0   5572.0\n",
      "11   12813.0    3599.0   2853.0   7591.0   3839.0\n",
      "12    3279.0    7591.0   4308.0   3648.0   6375.0\n",
      "13   11064.0   14553.0   7052.0  14012.0  11616.0\n",
      "14    5316.0    5957.0   6741.0  10426.0  14824.0\n",
      "15   10351.0   16871.0   4334.0  16143.0  15174.0\n",
      "16    7204.0    4787.0   6250.0  10700.0   6339.0\n",
      "17  201185.0   36243.0   6827.0   7735.0   6161.0\n",
      "18   51583.0   92190.0  21895.0  15148.0   9107.0\n",
      "19    4916.0   16078.0   5712.0  15941.0   8038.0\n",
      "20    5955.0    1357.0   6238.0   4125.0   3877.0\n",
      "21   24502.0   14594.0   2995.0   2787.0   4591.0\n",
      "22   21321.0    6558.0   2884.0   1823.0   3941.0\n",
      "23   22333.0    6772.0   1372.0   2634.0   1800.0\n",
      "24   16150.0   11142.0   3909.0   2510.0   4167.0\n",
      "25   57508.0    9015.0   3360.0   6401.0   2432.0\n",
      "26    2344.0    3202.0  16097.0   4111.0   1578.0\n",
      "27   43376.0    7312.0   5862.0   7490.0   3389.0\n",
      "28   22476.0   14288.0   1981.0  54599.0    760.0\n",
      "29    9655.0    6195.0   5461.0   2843.0   4971.0\n",
      "30   43211.0   12598.0  13122.0   2600.0   2250.0\n",
      "31   23136.0   25972.0   8358.0   3739.0   2699.0\n",
      "32   16311.0    5424.0   1631.0   1936.0   2286.0\n",
      "33   17783.0    6743.0   1878.0   7039.0   3246.0\n",
      "34    8184.0    7591.0   6797.0   3984.0   4670.0\n",
      "35   20103.0   14284.0   6125.0   2758.0   8370.0\n",
      "36   41957.0    8911.0   2123.0   2152.0   6736.0\n",
      "37   20655.0    9452.0   2904.0   6093.0   6750.0\n",
      "38   34715.0    6686.0   2164.0   2110.0   2914.0\n",
      "39   25801.0   42497.0   8453.0   5619.0   5353.0\n",
      "40   10581.0    5756.0   2001.0   3779.0   5343.0\n",
      "41    9787.0    9787.0   1297.0   2542.0   2047.0\n"
     ]
    }
   ],
   "source": [
    "print(sample_df)"
   ]
  },
  {
   "cell_type": "code",
   "execution_count": 5,
   "id": "205a2d6a-1025-43ef-8823-d85b66089db7",
   "metadata": {},
   "outputs": [
    {
     "name": "stdout",
     "output_type": "stream",
     "text": [
      "Mean of each column:\n",
      "DLTask1    28963.785714\n",
      "DCTask1    18664.285714\n",
      "RLTask1     5463.380952\n",
      "RCTask1     7699.309524\n",
      "CTask1      6180.523810\n",
      "dtype: float64\n"
     ]
    }
   ],
   "source": [
    "#Get the mean first\n",
    "\n",
    "\n",
    "means = sample_df.mean()\n",
    "\n",
    "print(\"Mean of each column:\")\n",
    "print(means)"
   ]
  },
  {
   "cell_type": "code",
   "execution_count": 6,
   "id": "d0492482-75b4-4f32-9405-b7be08fcc9c2",
   "metadata": {},
   "outputs": [
    {
     "name": "stdout",
     "output_type": "stream",
     "text": [
      "F-Statistic: 7.917095000695259\n",
      "P-value: 5.9315659027920345e-06\n"
     ]
    }
   ],
   "source": [
    "#Get significant difference using One-way ANOVA\n",
    "df = sample_df\n",
    "f_statistic, p_value = f_oneway(df['DLTask1'], df['DCTask1'], df['RLTask1'], df['RCTask1'], df['CTask1'])\n",
    "\n",
    "# Print results\n",
    "print(\"F-Statistic:\", f_statistic)\n",
    "print(\"P-value:\", p_value)"
   ]
  },
  {
   "cell_type": "code",
   "execution_count": 20,
   "id": "a9a78c99-bd04-4efd-9bc3-50022d1e47ce",
   "metadata": {},
   "outputs": [
    {
     "name": "stdout",
     "output_type": "stream",
     "text": [
      "There is a significant difference in the time users take to complete the task of clicking the most urgent to-do task across different layouts of the Canvas Dashboard.\n"
     ]
    }
   ],
   "source": [
    "if p_value < 0.05:\n",
    "    print(\"There is a significant difference in the time users take to complete the task of clicking the most urgent to-do task across different layouts of the Canvas Dashboard.\")\n",
    "else:\n",
    "    print(\"There is a significant difference in the time users take to complete the task of clicking the most urgent to-do task across different layouts of the Canvas Dashboard.\")"
   ]
  },
  {
   "cell_type": "markdown",
   "id": "2379e784-aa2c-4bc2-8df7-eb4ee30deb3a",
   "metadata": {},
   "source": [
    "## One-way ANOVA Testing for Time Completion on Task 2 (Announcement Task)"
   ]
  },
  {
   "cell_type": "code",
   "execution_count": 9,
   "id": "bc460a42-19ed-45c1-b20b-8c1112cec6f6",
   "metadata": {},
   "outputs": [],
   "source": [
    "import pandas as pd\n",
    "from scipy.stats import f_oneway"
   ]
  },
  {
   "cell_type": "code",
   "execution_count": 10,
   "id": "d7d9f853-3e89-4b47-94df-955609942fbb",
   "metadata": {},
   "outputs": [
    {
     "name": "stdout",
     "output_type": "stream",
     "text": [
      "<class 'pandas.core.frame.DataFrame'>\n",
      "RangeIndex: 42 entries, 0 to 41\n",
      "Data columns (total 5 columns):\n",
      " #   Column   Non-Null Count  Dtype  \n",
      "---  ------   --------------  -----  \n",
      " 0   DLTask3  42 non-null     float64\n",
      " 1   DCTask3  42 non-null     float64\n",
      " 2   RLTask3  42 non-null     float64\n",
      " 3   RCTask3  42 non-null     float64\n",
      " 4   CTask3   42 non-null     float64\n",
      "dtypes: float64(5)\n",
      "memory usage: 1.8 KB\n"
     ]
    }
   ],
   "source": [
    "sample_df_orig = pd.read_csv(\"data2.csv\")\n",
    "\n",
    "def extract_numerical(value):\n",
    "    return float(value.split()[0])\n",
    "    \n",
    "sample_df = sample_df_orig.apply(lambda x: x.map(extract_numerical))\n",
    "\n",
    "sample_df.info()"
   ]
  },
  {
   "cell_type": "code",
   "execution_count": 11,
   "id": "7ae3b0bb-704a-4f0e-a6d7-78642229bc98",
   "metadata": {},
   "outputs": [
    {
     "name": "stdout",
     "output_type": "stream",
     "text": [
      "    DLTask3  DCTask3  RLTask3  RCTask3   CTask3\n",
      "0   16897.0   6042.0   2472.0   8576.0   7511.0\n",
      "1   58861.0  20932.0   2237.0  12174.0   8445.0\n",
      "2   56264.0   5610.0  15891.0   2766.0    763.0\n",
      "3   13081.0  14064.0   4724.0  21063.0   3030.0\n",
      "4   15987.0   7674.0   6112.0  16130.0   7379.0\n",
      "5   11029.0   9789.0   3916.0   4979.0   3233.0\n",
      "6   25834.0   5111.0   4129.0   9485.0  10297.0\n",
      "7   11393.0  11310.0   1628.0   7878.0   1462.0\n",
      "8   15899.0  11043.0   8319.0  15561.0   4640.0\n",
      "9   42390.0   9286.0  21264.0  27040.0   2434.0\n",
      "10  59390.0  17170.0   2427.0   6136.0   5273.0\n",
      "11   9871.0   9159.0   2741.0  11472.0   1927.0\n",
      "12  15961.0   3928.0   2079.0   9496.0   4135.0\n",
      "13  12924.0  20639.0   7328.0  34083.0   6829.0\n",
      "14  13257.0   7595.0   3993.0  10354.0   8500.0\n",
      "15  15697.0  16963.0   5826.0   9860.0   1255.0\n",
      "16  23274.0   8105.0   2644.0  10250.0   4515.0\n",
      "17   8884.0   3807.0   2194.0   7448.0   6518.0\n",
      "18  86041.0  12734.0   8091.0  17348.0   7104.0\n",
      "19  11572.0   4065.0   7213.0  10479.0   3933.0\n",
      "20  11421.0   7394.0   1312.0   5919.0    778.0\n",
      "21  11509.0   5062.0   1931.0   3608.0   3003.0\n",
      "22  13978.0   3796.0   1795.0   4194.0   1496.0\n",
      "23   7435.0   6924.0   1059.0   3311.0   1103.0\n",
      "24   9409.0   6689.0   2860.0   7634.0   2046.0\n",
      "25   5706.0   4948.0   1497.0   4057.0   2623.0\n",
      "26  21500.0   8305.0   3401.0   7488.0   3739.0\n",
      "27  62146.0   4397.0   2082.0   2175.0   2174.0\n",
      "28  10472.0   4694.0   1483.0   3686.0   2764.0\n",
      "29   5692.0   4700.0   4153.0   5822.0   2511.0\n",
      "30   8917.0   9216.0   2390.0   4464.0   1680.0\n",
      "31  15539.0  15322.0   2384.0   3778.0  18140.0\n",
      "32   4553.0   2679.0    878.0   1813.0   1207.0\n",
      "33   5767.0   4791.0   3207.0   3487.0   1200.0\n",
      "34   7745.0  15649.0  13292.0  11163.0  23749.0\n",
      "35  10899.0  10064.0   9758.0   2196.0   5242.0\n",
      "36  13263.0   6449.0   2320.0   3471.0   1541.0\n",
      "37   9115.0   8105.0   2270.0   7984.0   1723.0\n",
      "38   5716.0   4206.0   1629.0   1141.0   1915.0\n",
      "39  50373.0  37695.0   5333.0   7672.0   5094.0\n",
      "40  14302.0   5004.0   4142.0   3486.0   3340.0\n",
      "41  10493.0   9405.0    998.0   2369.0   1455.0\n"
     ]
    }
   ],
   "source": [
    "print(sample_df)"
   ]
  },
  {
   "cell_type": "code",
   "execution_count": 12,
   "id": "6fc18915-df64-47aa-8559-393e75d8896d",
   "metadata": {},
   "outputs": [
    {
     "name": "stdout",
     "output_type": "stream",
     "text": [
      "Mean of each column:\n",
      "DLTask3    20010.857143\n",
      "DCTask3     9298.095238\n",
      "RLTask3     4414.333333\n",
      "RCTask3     8416.571429\n",
      "CTask3      4469.190476\n",
      "dtype: float64\n"
     ]
    }
   ],
   "source": [
    "#Get the mean first\n",
    "\n",
    "\n",
    "means = sample_df.mean()\n",
    "\n",
    "print(\"Mean of each column:\")\n",
    "print(means)"
   ]
  },
  {
   "cell_type": "code",
   "execution_count": 13,
   "id": "49d460e5-3e0a-4232-a0de-07f69742f33a",
   "metadata": {},
   "outputs": [
    {
     "name": "stdout",
     "output_type": "stream",
     "text": [
      "F-Statistic: 17.442879708577834\n",
      "P-value: 2.465890933317309e-12\n"
     ]
    }
   ],
   "source": [
    "#Get significant difference using One-way ANOVA\n",
    "df = sample_df\n",
    "f_statistic, p_value = f_oneway(df['DLTask3'], df['DCTask3'], df['RLTask3'], df['RCTask3'], df['CTask3'])\n",
    "\n",
    "# Print results\n",
    "print(\"F-Statistic:\", f_statistic)\n",
    "print(\"P-value:\", p_value)"
   ]
  },
  {
   "cell_type": "code",
   "execution_count": 21,
   "id": "fa128b4a-8eca-4ffb-b39e-fff5b8f6a968",
   "metadata": {},
   "outputs": [
    {
     "name": "stdout",
     "output_type": "stream",
     "text": [
      "There is a significant difference in the time users take to complete the task of clicking the most recent unread announcement across different layouts of the Canvas Dashboard.\n"
     ]
    }
   ],
   "source": [
    "if p_value < 0.05:\n",
    "    print(\"There is a significant difference in the time users take to complete the task of clicking the most recent unread announcement across different layouts of the Canvas Dashboard.\")\n",
    "else:\n",
    "    print(\"There is no significant difference in the time users take to complete the task of clicking the most recent unread announcement across different layouts of the Canvas Dashboard.\")"
   ]
  },
  {
   "cell_type": "markdown",
   "id": "f8232664-6b0d-4d93-aefd-f494a1f84097",
   "metadata": {},
   "source": [
    "## One-way ANOVA Testing for Idenitifaction Accuracy on Task 1 (Urgent Task)"
   ]
  },
  {
   "cell_type": "code",
   "execution_count": 15,
   "id": "d28544fc-8fb0-4314-a5b8-9fbce2371e81",
   "metadata": {},
   "outputs": [
    {
     "name": "stdout",
     "output_type": "stream",
     "text": [
      "<class 'pandas.core.frame.DataFrame'>\n",
      "RangeIndex: 42 entries, 0 to 41\n",
      "Data columns (total 5 columns):\n",
      " #   Column   Non-Null Count  Dtype  \n",
      "---  ------   --------------  -----  \n",
      " 0   DLTask1  42 non-null     float64\n",
      " 1   DCTask1  42 non-null     float64\n",
      " 2   RLTask1  42 non-null     float64\n",
      " 3   RCTask1  42 non-null     float64\n",
      " 4   CTask1   42 non-null     float64\n",
      "dtypes: float64(5)\n",
      "memory usage: 1.8 KB\n"
     ]
    }
   ],
   "source": [
    "sample_df_orig = pd.read_csv(\"data3.csv\")\n",
    "\n",
    "def extract_numerical(value):\n",
    "    return float(value.split()[0])\n",
    "    \n",
    "sample_df = sample_df_orig\n",
    "\n",
    "sample_df.info()"
   ]
  },
  {
   "cell_type": "code",
   "execution_count": 16,
   "id": "ccece42d-ef8d-47ae-9cac-56761e1dbc45",
   "metadata": {},
   "outputs": [
    {
     "name": "stdout",
     "output_type": "stream",
     "text": [
      "     DLTask1   DCTask1   RLTask1   RCTask1    CTask1\n",
      "0   0.500000  0.500000  1.000000  1.000000  1.000000\n",
      "1   0.071429  0.333333  1.000000  1.000000  1.000000\n",
      "2   1.000000  0.500000  1.000000  0.333333  1.000000\n",
      "3   0.250000  0.500000  1.000000  1.000000  1.000000\n",
      "4   0.100000  1.000000  1.000000  1.000000  1.000000\n",
      "5   0.500000  1.000000  1.000000  1.000000  1.000000\n",
      "6   1.000000  1.000000  1.000000  1.000000  1.000000\n",
      "7   0.333333  0.200000  1.000000  1.000000  1.000000\n",
      "8   1.000000  0.500000  1.000000  1.000000  1.000000\n",
      "9   0.142857  1.000000  1.000000  1.000000  1.000000\n",
      "10  1.000000  1.000000  1.000000  1.000000  1.000000\n",
      "11  1.000000  1.000000  0.333333  1.000000  1.000000\n",
      "12  0.250000  0.250000  1.000000  1.000000  0.500000\n",
      "13  0.111111  0.500000  1.000000  1.000000  1.000000\n",
      "14  0.200000  0.500000  1.000000  0.200000  1.000000\n",
      "15  0.142857  0.250000  0.500000  0.027778  1.000000\n",
      "16  1.000000  0.500000  0.250000  0.500000  1.000000\n",
      "17  0.333333  0.333333  0.500000  1.000000  1.000000\n",
      "18  0.012987  0.066667  0.333333  1.000000  1.000000\n",
      "19  0.014706  0.250000  0.333333  1.000000  1.000000\n",
      "20  0.047619  0.058824  0.500000  0.500000  0.500000\n",
      "21  0.200000  0.142857  0.250000  1.000000  1.000000\n",
      "22  1.000000  1.000000  1.000000  1.000000  1.000000\n",
      "23  0.500000  1.000000  1.000000  1.000000  1.000000\n",
      "24  1.000000  0.500000  1.000000  1.000000  1.000000\n",
      "25  0.111111  0.500000  1.000000  0.250000  1.000000\n",
      "26  1.000000  1.000000  1.000000  1.000000  1.000000\n",
      "27  1.000000  1.000000  0.500000  1.000000  1.000000\n",
      "28  0.125000  0.500000  1.000000  1.000000  1.000000\n",
      "29  0.071429  0.250000  1.000000  1.000000  1.000000\n",
      "30  1.000000  1.000000  1.000000  1.000000  1.000000\n",
      "31  0.250000  1.000000  1.000000  1.000000  1.000000\n",
      "32  1.000000  1.000000  1.000000  1.000000  1.000000\n",
      "33  1.000000  1.000000  1.000000  0.500000  1.000000\n",
      "34  0.034483  0.071429  0.500000  1.000000  0.500000\n",
      "35  0.083333  0.500000  1.000000  1.000000  1.000000\n",
      "36  0.071429  0.055556  1.000000  0.333333  1.000000\n",
      "37  0.200000  0.500000  1.000000  1.000000  1.000000\n",
      "38  1.000000  1.000000  1.000000  1.000000  1.000000\n",
      "39  0.333333  1.000000  1.000000  1.000000  0.333333\n",
      "40  1.000000  1.000000  1.000000  1.000000  1.000000\n",
      "41  0.333333  1.000000  1.000000  1.000000  1.000000\n"
     ]
    }
   ],
   "source": [
    "print(sample_df)"
   ]
  },
  {
   "cell_type": "code",
   "execution_count": 17,
   "id": "80b0fb1d-0319-4f5b-bdb4-566d5ff0fceb",
   "metadata": {},
   "outputs": [
    {
     "name": "stdout",
     "output_type": "stream",
     "text": [
      "Mean of each column:\n",
      "DLTask1    0.483897\n",
      "DCTask1    0.625286\n",
      "RLTask1    0.857143\n",
      "RCTask1    0.872487\n",
      "CTask1     0.948413\n",
      "dtype: float64\n"
     ]
    }
   ],
   "source": [
    "#Get the mean first\n",
    "\n",
    "\n",
    "means = sample_df.mean()\n",
    "\n",
    "print(\"Mean of each column:\")\n",
    "print(means)"
   ]
  },
  {
   "cell_type": "code",
   "execution_count": 18,
   "id": "69a2d418-2ffb-4f2c-a7b7-f77a230fb433",
   "metadata": {},
   "outputs": [
    {
     "name": "stdout",
     "output_type": "stream",
     "text": [
      "F-Statistic: 17.258661732706678\n",
      "P-value: 3.222526390638752e-12\n"
     ]
    }
   ],
   "source": [
    "#Get significant difference using One-way ANOVA\n",
    "df = sample_df\n",
    "f_statistic, p_value = f_oneway(df['DLTask1'], df['DCTask1'], df['RLTask1'], df['RCTask1'], df['CTask1'])\n",
    "\n",
    "# Print results\n",
    "print(\"F-Statistic:\", f_statistic)\n",
    "print(\"P-value:\", p_value)"
   ]
  },
  {
   "cell_type": "code",
   "execution_count": 22,
   "id": "7cfcaa15-1af8-41f5-82da-ba789b25323c",
   "metadata": {},
   "outputs": [
    {
     "name": "stdout",
     "output_type": "stream",
     "text": [
      "There is a significant difference in the identification accuracy when completing the task of clicking the most urgent to-do task across different layouts of the Canvas Dashboard.\n"
     ]
    }
   ],
   "source": [
    "if p_value < 0.05:\n",
    "    print(\"There is a significant difference in the identification accuracy when completing the task of clicking the most urgent to-do task across different layouts of the Canvas Dashboard.\")\n",
    "else:\n",
    "    print(\"There is no significant difference in the identification accuracy when completing the task of clicking the most urgent to-do task across different layouts of the Canvas Dashboard.\")"
   ]
  },
  {
   "cell_type": "markdown",
   "id": "7bdaabdf-a116-4cee-871e-05c1babcf6c5",
   "metadata": {},
   "source": [
    "## One-way ANOVA Testing for Idenitifaction Accuracy on Task 2 (Announcement Task)"
   ]
  },
  {
   "cell_type": "code",
   "execution_count": 25,
   "id": "79b4a4f1-ad91-4cc3-b87d-1ca4915836ce",
   "metadata": {},
   "outputs": [
    {
     "name": "stdout",
     "output_type": "stream",
     "text": [
      "<class 'pandas.core.frame.DataFrame'>\n",
      "RangeIndex: 42 entries, 0 to 41\n",
      "Data columns (total 5 columns):\n",
      " #   Column   Non-Null Count  Dtype  \n",
      "---  ------   --------------  -----  \n",
      " 0   DLTask2  42 non-null     float64\n",
      " 1   DCTask2  42 non-null     float64\n",
      " 2   RLTask2  42 non-null     float64\n",
      " 3   RCTask2  42 non-null     float64\n",
      " 4   CTask2   42 non-null     float64\n",
      "dtypes: float64(5)\n",
      "memory usage: 1.8 KB\n"
     ]
    }
   ],
   "source": [
    "sample_df_orig = pd.read_csv(\"data4.csv\")\n",
    "\n",
    "def extract_numerical(value):\n",
    "    return float(value.split()[0])\n",
    "    \n",
    "sample_df = sample_df_orig\n",
    "\n",
    "sample_df.info()"
   ]
  },
  {
   "cell_type": "code",
   "execution_count": 26,
   "id": "cf62808d-3d40-433a-9d5a-c6a515fcadcb",
   "metadata": {},
   "outputs": [
    {
     "name": "stdout",
     "output_type": "stream",
     "text": [
      "     DLTask2   DCTask2   RLTask2   RCTask2    CTask2\n",
      "0   0.250000  0.250000  1.000000  0.500000  1.000000\n",
      "1   0.142857  0.500000  1.000000  1.000000  1.000000\n",
      "2   0.055556  0.071429  1.000000  0.250000  1.000000\n",
      "3   0.333333  1.000000  1.000000  0.500000  1.000000\n",
      "4   0.125000  0.500000  0.500000  1.000000  1.000000\n",
      "5   1.000000  1.000000  1.000000  1.000000  1.000000\n",
      "6   0.250000  1.000000  1.000000  0.100000  1.000000\n",
      "7   1.000000  1.000000  1.000000  0.333333  1.000000\n",
      "8   0.500000  1.000000  1.000000  1.000000  1.000000\n",
      "9   1.000000  1.000000  1.000000  1.000000  1.000000\n",
      "10  0.500000  0.166667  1.000000  0.500000  1.000000\n",
      "11  1.000000  0.500000  1.000000  1.000000  1.000000\n",
      "12  0.076923  0.500000  1.000000  1.000000  1.000000\n",
      "13  0.035714  1.000000  1.000000  1.000000  1.000000\n",
      "14  0.111111  0.166667  1.000000  0.142857  1.000000\n",
      "15  1.000000  0.250000  1.000000  1.000000  0.500000\n",
      "16  0.111111  0.250000  0.250000  0.100000  1.000000\n",
      "17  0.333333  0.500000  1.000000  0.200000  1.000000\n",
      "18  0.037037  0.200000  0.200000  0.100000  1.000000\n",
      "19  0.142857  0.333333  1.000000  1.000000  1.000000\n",
      "20  0.045455  0.333333  1.000000  0.250000  1.000000\n",
      "21  1.000000  0.500000  1.000000  1.000000  0.333333\n",
      "22  1.000000  1.000000  1.000000  0.500000  1.000000\n",
      "23  1.000000  1.000000  1.000000  1.000000  1.000000\n",
      "24  0.058824  0.500000  1.000000  1.000000  1.000000\n",
      "25  1.000000  1.000000  1.000000  1.000000  1.000000\n",
      "26  0.333333  0.166667  1.000000  0.111111  1.000000\n",
      "27  1.000000  0.250000  0.500000  0.500000  0.333333\n",
      "28  0.333333  0.500000  1.000000  1.000000  0.333333\n",
      "29  0.333333  1.000000  1.000000  1.000000  0.500000\n",
      "30  0.500000  0.500000  1.000000  0.500000  1.000000\n",
      "31  0.333333  1.000000  1.000000  1.000000  1.000000\n",
      "32  1.000000  1.000000  1.000000  1.000000  1.000000\n",
      "33  1.000000  1.000000  1.000000  1.000000  1.000000\n",
      "34  1.000000  1.000000  1.000000  0.333333  1.000000\n",
      "35  1.000000  1.000000  1.000000  1.000000  1.000000\n",
      "36  0.333333  1.000000  1.000000  1.000000  1.000000\n",
      "37  0.142857  0.250000  1.000000  0.500000  1.000000\n",
      "38  0.200000  1.000000  0.333333  1.000000  1.000000\n",
      "39  0.333333  1.000000  1.000000  1.000000  1.000000\n",
      "40  0.200000  0.500000  1.000000  0.250000  1.000000\n",
      "41  1.000000  0.500000  1.000000  1.000000  1.000000\n"
     ]
    }
   ],
   "source": [
    "print(sample_df)"
   ]
  },
  {
   "cell_type": "code",
   "execution_count": 27,
   "id": "7d628aba-1583-4a02-a44c-6b8891e3eab0",
   "metadata": {},
   "outputs": [
    {
     "name": "stdout",
     "output_type": "stream",
     "text": [
      "Mean of each column:\n",
      "DLTask2    0.503618\n",
      "DCTask2    0.647336\n",
      "RLTask2    0.923413\n",
      "RCTask2    0.706444\n",
      "CTask2     0.928571\n",
      "dtype: float64\n"
     ]
    }
   ],
   "source": [
    "#Get the mean first\n",
    "\n",
    "\n",
    "means = sample_df.mean()\n",
    "\n",
    "print(\"Mean of each column:\")\n",
    "print(means)"
   ]
  },
  {
   "cell_type": "code",
   "execution_count": 28,
   "id": "6990a61a-31bf-4afe-a5c8-feb8e4253a37",
   "metadata": {},
   "outputs": [
    {
     "name": "stdout",
     "output_type": "stream",
     "text": [
      "F-Statistic: 14.544778236868032\n",
      "P-value: 1.7905875882147234e-10\n"
     ]
    }
   ],
   "source": [
    "#Get significant difference using One-way ANOVA\n",
    "df = sample_df\n",
    "f_statistic, p_value = f_oneway(df['DLTask2'], df['DCTask2'], df['RLTask2'], df['RCTask2'], df['CTask2'])\n",
    "\n",
    "# Print results\n",
    "print(\"F-Statistic:\", f_statistic)\n",
    "print(\"P-value:\", p_value)"
   ]
  },
  {
   "cell_type": "code",
   "execution_count": 29,
   "id": "2191af73-7ca2-478d-b571-27df3451ab30",
   "metadata": {},
   "outputs": [
    {
     "name": "stdout",
     "output_type": "stream",
     "text": [
      "There is a significant difference in the identification accuracy when completing the task of clicking the most recent unread announcement across different layouts of the Canvas Dashboard.\n"
     ]
    }
   ],
   "source": [
    "if p_value < 0.05:\n",
    "    print(\"There is a significant difference in the identification accuracy when completing the task of clicking the most recent unread announcement across different layouts of the Canvas Dashboard.\")\n",
    "else:\n",
    "    print(\"There is no significant difference in the identification accuracy when completing the task of clicking the most recent unread announcement across different layouts of the Canvas Dashboard.\")"
   ]
  }
 ],
 "metadata": {
  "kernelspec": {
   "display_name": "Python 3 (ipykernel)",
   "language": "python",
   "name": "python3"
  },
  "language_info": {
   "codemirror_mode": {
    "name": "ipython",
    "version": 3
   },
   "file_extension": ".py",
   "mimetype": "text/x-python",
   "name": "python",
   "nbconvert_exporter": "python",
   "pygments_lexer": "ipython3",
   "version": "3.11.8"
  }
 },
 "nbformat": 4,
 "nbformat_minor": 5
}
